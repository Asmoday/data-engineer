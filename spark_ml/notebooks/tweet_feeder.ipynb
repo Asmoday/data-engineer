{
 "cells": [
  {
   "cell_type": "code",
   "execution_count": 1,
   "metadata": {},
   "outputs": [
    {
     "name": "stdout",
     "output_type": "stream",
     "text": [
      "Current spark version is 2.4.4\n"
     ]
    }
   ],
   "source": [
    "println(s\"Current spark version is ${spark.version}\")"
   ]
  },
  {
   "cell_type": "code",
   "execution_count": 2,
   "metadata": {},
   "outputs": [
    {
     "name": "stdout",
     "output_type": "stream",
     "text": [
      "Total tweets in file: 1600000\n"
     ]
    },
    {
     "data": {
      "text/plain": [
       "dataSchema = StructType(StructField(target,IntegerType,true), StructField(id,LongType,true), StructField(raw_timestamp,StringType,true), StructField(query_status,StringType,true), StructField(author,StringType,true), StructField(tweet,StringType,true))\n",
       "dataPath = /home/jovyan/data/training.1600000.processed.noemoticon.csv\n",
       "raw_sentiment = [tweet: string]\n"
      ]
     },
     "metadata": {},
     "output_type": "display_data"
    },
    {
     "data": {
      "text/plain": [
       "[tweet: string]"
      ]
     },
     "execution_count": 2,
     "metadata": {},
     "output_type": "execute_result"
    }
   ],
   "source": [
    "import org.apache.spark.sql.types.{StructType, StructField, IntegerType, LongType, StringType}\n",
    "\n",
    "val dataSchema = new StructType()\n",
    "    .add(\"target\", IntegerType)\n",
    "    .add(\"id\", LongType)\n",
    "    .add(\"raw_timestamp\", StringType)\n",
    "    .add(\"query_status\", StringType)\n",
    "    .add(\"author\", StringType)\n",
    "    .add(\"tweet\", StringType)\n",
    "\n",
    "    \n",
    "val dataPath= \"/home/jovyan/data/training.1600000.processed.noemoticon.csv\"\n",
    "\n",
    "val raw_sentiment = spark.read\n",
    "    .format(\"csv\")\n",
    "    .option(\"header\",false)\n",
    "    .schema(dataSchema)\n",
    "    .load(dataPath)\n",
    "    .selectExpr(\"tweet\")\n",
    "\n",
    "println(s\"Total tweets in file: ${raw_sentiment.count}\")\n"
   ]
  },
  {
   "cell_type": "code",
   "execution_count": 3,
   "metadata": {},
   "outputs": [
    {
     "name": "stdout",
     "output_type": "stream",
     "text": [
      "Streaming started!\n"
     ]
    },
    {
     "data": {
      "text/plain": [
       "timer = java.util.Timer@7a68fe54\n",
       "task = $anon$1@52e3a93a\n"
      ]
     },
     "metadata": {},
     "output_type": "display_data"
    },
    {
     "data": {
      "text/plain": [
       "$anon$1@52e3a93a"
      ]
     },
     "execution_count": 3,
     "metadata": {},
     "output_type": "execute_result"
    },
    {
     "name": "stdout",
     "output_type": "stream",
     "text": [
      "2019-10-20T11:17:41.875Z - saved some data to the events stream!\n",
      "2019-10-20T11:17:47.189Z - saved some data to the events stream!\n",
      "2019-10-20T11:17:52.283Z - saved some data to the events stream!\n",
      "2019-10-20T11:17:58.093Z - saved some data to the events stream!\n",
      "2019-10-20T11:18:04.441Z - saved some data to the events stream!\n",
      "2019-10-20T11:18:11.903Z - saved some data to the events stream!\n",
      "2019-10-20T11:18:16.228Z - saved some data to the events stream!\n",
      "2019-10-20T11:18:22.423Z - saved some data to the events stream!\n",
      "2019-10-20T11:18:27.733Z - saved some data to the events stream!\n",
      "2019-10-20T11:18:33.181Z - saved some data to the events stream!\n",
      "2019-10-20T11:18:38.686Z - saved some data to the events stream!\n",
      "2019-10-20T11:18:44.383Z - saved some data to the events stream!\n",
      "2019-10-20T11:18:50.174Z - saved some data to the events stream!\n",
      "2019-10-20T11:18:56.267Z - saved some data to the events stream!\n",
      "2019-10-20T11:19:02.226Z - saved some data to the events stream!\n",
      "2019-10-20T11:19:08.183Z - saved some data to the events stream!\n",
      "2019-10-20T11:19:14.599Z - saved some data to the events stream!\n",
      "2019-10-20T11:19:21.321Z - saved some data to the events stream!\n",
      "2019-10-20T11:19:27.435Z - saved some data to the events stream!\n",
      "2019-10-20T11:19:32.993Z - saved some data to the events stream!\n",
      "2019-10-20T11:19:39.262Z - saved some data to the events stream!\n",
      "2019-10-20T11:19:45.127Z - saved some data to the events stream!\n",
      "2019-10-20T11:19:50.499Z - saved some data to the events stream!\n",
      "2019-10-20T11:19:54.927Z - saved some data to the events stream!\n",
      "2019-10-20T11:19:59.041Z - saved some data to the events stream!\n",
      "2019-10-20T11:20:02.632Z - saved some data to the events stream!\n",
      "2019-10-20T11:20:06.314Z - saved some data to the events stream!\n",
      "2019-10-20T11:20:09.981Z - saved some data to the events stream!\n",
      "2019-10-20T11:20:13.887Z - saved some data to the events stream!\n",
      "2019-10-20T11:20:18.030Z - saved some data to the events stream!\n",
      "2019-10-20T11:20:23.376Z - saved some data to the events stream!\n",
      "2019-10-20T11:20:28.506Z - saved some data to the events stream!\n",
      "2019-10-20T11:20:35.519Z - saved some data to the events stream!\n",
      "2019-10-20T11:20:44.963Z - saved some data to the events stream!\n",
      "2019-10-20T11:20:55.521Z - saved some data to the events stream!\n",
      "2019-10-20T11:21:05.385Z - saved some data to the events stream!\n",
      "2019-10-20T11:21:13.692Z - saved some data to the events stream!\n",
      "2019-10-20T11:21:24.101Z - saved some data to the events stream!\n",
      "2019-10-20T11:21:33.309Z - saved some data to the events stream!\n",
      "2019-10-20T11:21:42.156Z - saved some data to the events stream!\n",
      "2019-10-20T11:21:52.573Z - saved some data to the events stream!\n",
      "2019-10-20T11:22:04.966Z - saved some data to the events stream!\n",
      "2019-10-20T11:22:11.201Z - saved some data to the events stream!\n",
      "2019-10-20T11:22:17.714Z - saved some data to the events stream!\n",
      "2019-10-20T11:22:23.764Z - saved some data to the events stream!\n",
      "2019-10-20T11:22:29.890Z - saved some data to the events stream!\n",
      "2019-10-20T11:22:37.496Z - saved some data to the events stream!\n",
      "2019-10-20T11:22:46.828Z - saved some data to the events stream!\n",
      "2019-10-20T11:22:57.290Z - saved some data to the events stream!\n",
      "2019-10-20T11:23:04.947Z - saved some data to the events stream!\n",
      "2019-10-20T11:23:13.280Z - saved some data to the events stream!\n",
      "2019-10-20T11:23:20.430Z - saved some data to the events stream!\n"
     ]
    }
   ],
   "source": [
    "import java.util.{Calendar, Timer, TimerTask}\n",
    "\n",
    "val timer = new Timer()\n",
    "\n",
    "val task = new TimerTask {\n",
    "  def run(): Unit = {\n",
    "      val data = raw_sentiment.sample(fraction=0.00001,withReplacement=true)\n",
    "      data.coalesce(1).write.format(\"json\").mode(\"append\").save(\"/home/jovyan/data/events-stream\")\n",
    "      println(s\"${Calendar.getInstance().toInstant} - saved some data to the events stream!\")\n",
    "  } \n",
    "}\n",
    "\n",
    "println(\"Streaming started!\")\n",
    "\n",
    "timer.schedule(task, 1000L, 1000L)"
   ]
  },
  {
   "cell_type": "code",
   "execution_count": 7,
   "metadata": {},
   "outputs": [
    {
     "data": {
      "text/plain": [
       "true"
      ]
     },
     "execution_count": 7,
     "metadata": {},
     "output_type": "execute_result"
    }
   ],
   "source": [
    "task.cancel()"
   ]
  },
  {
   "cell_type": "code",
   "execution_count": null,
   "metadata": {},
   "outputs": [],
   "source": []
  }
 ],
 "metadata": {
  "kernelspec": {
   "display_name": "Apache Toree - Scala",
   "language": "scala",
   "name": "apache_toree_scala"
  },
  "language_info": {
   "codemirror_mode": "text/x-scala",
   "file_extension": ".scala",
   "mimetype": "text/x-scala",
   "name": "scala",
   "pygments_lexer": "scala",
   "version": "2.11.12"
  }
 },
 "nbformat": 4,
 "nbformat_minor": 2
}
